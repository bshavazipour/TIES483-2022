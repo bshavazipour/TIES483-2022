{
 "cells": [
  {
   "cell_type": "markdown",
   "metadata": {
    "slideshow": {
     "slide_type": "slide"
    }
   },
   "source": [
    "# Exercise 5, answers"
   ]
  },
  {
   "cell_type": "markdown",
   "metadata": {
    "slideshow": {
     "slide_type": "slide"
    }
   },
   "source": [
    "## Task 1"
   ]
  },
  {
   "cell_type": "markdown",
   "metadata": {},
   "source": [
    "The stability rule becomes\n",
    "$$\n",
    "(2x_1,2x_2)-\\lambda(1,1) = (0,0),\n",
    "$$\n",
    "and completementary rule becomes\n",
    "$$\n",
    "\\lambda(x_1+x_2-1) = 0.\n",
    "$$\n",
    "Thus, we need to have:\n",
    "\n",
    "$$\n",
    "\\left\\{\n",
    "\\begin{align}\n",
    "2x_1-\\lambda=0\\quad (1)\\\\\n",
    "2x_2-\\lambda=0\\quad (2)\\\\\n",
    "\\lambda(x_1+x_2-1) = 0\\quad (3)\n",
    "\\end{align}\n",
    "\\right.\n",
    "$$\n",
    "\n",
    "Now deducting equation (2), from equation (1) gives $2x_1-2x_2=0$, thus $x_1=x_2$.  Now if $\\lambda= 0$, then $x_1=x_2=0$. However, this solution is not feasible. Thus, $\\lambda\\neq0$, which implies $x_1+x_2-1=0$, which gives $x_1=x_2=\\frac12$ and, thus, $\\lambda=1$. These values satisfy KKT conditions.\n",
    "\n",
    "Because the problem is quadratic, it has an optimal solution. Since only one solution satisfies KKT conditions, this solution is optimal."
   ]
  },
  {
   "cell_type": "markdown",
   "metadata": {
    "slideshow": {
     "slide_type": "slide"
    }
   },
   "source": [
    "## Task 2"
   ]
  },
  {
   "cell_type": "markdown",
   "metadata": {},
   "source": [
    "Now,\n",
    "$$\n",
    "\\begin{align}\n",
    "\\nabla_x L_c(x^*,\\lambda^*)& = \\nabla f(x^*)+\\sum_{k=1}^K \\lambda^*_k\\nabla h_k(x^*)+c\\nabla(\\sum_{k=1}^Kh_k(x^*)^2)\\\\\n",
    "&=\\nabla f(x^*)+\\sum_{k=1}^K \\lambda^*_k\\nabla h_k(x^*)+2c\\sum_{k=1}^Kh_k(x^*)\\nabla h_k(x^*)\\\\\n",
    "&=0+2c\\sum_{k=1}^K0\\nabla h_k(x^*)=0.\n",
    "\\end{align}\n",
    "$$\n",
    "The first zero is given by the KKT conditions and the second zero is due to the solution being feasible."
   ]
  }
 ],
 "metadata": {
  "anaconda-cloud": {},
  "celltoolbar": "Slideshow",
  "kernelspec": {
   "display_name": "Python 3",
   "language": "python",
   "name": "python3"
  },
  "language_info": {
   "codemirror_mode": {
    "name": "ipython",
    "version": 3
   },
   "file_extension": ".py",
   "mimetype": "text/x-python",
   "name": "python",
   "nbconvert_exporter": "python",
   "pygments_lexer": "ipython3",
   "version": "3.8.8"
  }
 },
 "nbformat": 4,
 "nbformat_minor": 1
}
