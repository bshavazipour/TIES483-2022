{
 "cells": [
  {
   "cell_type": "markdown",
   "metadata": {},
   "source": [
    "# Final assignment"
   ]
  },
  {
   "cell_type": "markdown",
   "metadata": {},
   "source": [
    "## Deadline: March 31th 2022 at 16:00"
   ]
  },
  {
   "cell_type": "markdown",
   "metadata": {},
   "source": [
    "## Instructions\n",
    "\n",
    "* Write a report of all the problems that you have solved explaining clearly all the steps that you have taken in solving them. Include also the code that you used. **Remember to add comments to your answers and include also some testing part!**\n",
    "\n",
    "* You can use any packages or tools that you see most fit for the purpose.\n",
    "\n",
    "* Your work will be evaluated based on your report and the tools used. Therefore, pay also attention to how you prepare the report having a clear and logical structure.\n",
    "\n",
    "* **Submit your answers by using Moodle.** The link is <a href=\"https://moodle.jyu.fi/mod/assign/view.php?id=705286&forceview=1\">https://moodle.jyu.fi/mod/assign/view.php?id=705286&forceview=1</a>.\n",
    "\n",
    "* *Reminder about course grading: weekly exercises **65%**, assignment **35%*** **(modified after mixing exercise 8 and the final assignment)**.\n",
    "\n",
    "* Max 25 points (5 for the first three problems and 10 points for problem 4)"
   ]
  },
  {
   "cell_type": "markdown",
   "metadata": {},
   "source": [
    "## Problem 1"
   ]
  },
  {
   "cell_type": "markdown",
   "metadata": {
    "collapsed": true
   },
   "source": [
    "A window is being built and the bottom is a rectangle and the top is a semicircle. If there is 12 m of framing materials what must the dimensions of the window be to make the window area as big as possible?\n",
    "\n",
    "Model the decision problem as an optimization problem and solve it with a method of your choosing. **Analyze the result!**"
   ]
  },
  {
   "cell_type": "markdown",
   "metadata": {},
   "source": [
    "## Problem 2"
   ]
  },
  {
   "cell_type": "markdown",
   "metadata": {},
   "source": [
    "The 10-dimensional Robsenbrock function (one of the variants) is defined as\n",
    "$$\n",
    "f(\\mathbf{x}) = \\sum_{i=1}^{9} 100 (x_{i+1} - x_i^2 )^2 + (1-x_i)^2\n",
    "$$\n",
    "for $x\\in\\mathbb R^{10}$. \n",
    "\n",
    "Compare at least two different optimization method's performance in minimizing this function over $\\mathbb R^{10}$. You can decide the method of comparison as the one that makes most sense to you. **Analyze the results!**"
   ]
  },
  {
   "cell_type": "markdown",
   "metadata": {},
   "source": [
    "## Problem 3"
   ]
  },
  {
   "cell_type": "markdown",
   "metadata": {},
   "source": [
    "Study biobjective optimization problem\n",
    "$$\n",
    "\\begin{align}\n",
    "\\min \\ &(\\|x-(1,0)\\|,\\|x-(0,1)\\|)\\\\\n",
    "\\text{s.t. }&x\\in \\mathbb R^2.\n",
    "\\end{align}\n",
    "$$\n",
    "Try to generate an evenly spread representation of the Pareto front. Plot the results in both the decision and objective spaces. **Analyze the results!**"
   ]
  },
  {
   "cell_type": "markdown",
   "metadata": {},
   "source": [
    "## Problem 4"
   ]
  },
  {
   "cell_type": "markdown",
   "metadata": {},
   "source": [
    "Find an application of optimization in a scientific paper, and replicate the results.\n",
    "\n",
    "If you do not have the data or the model, then you need to come up with a mock-up data or model yourself. If you do not have the data and you cannot come up with any model or data that would somehow resemble the model or the data in the paper, then you need to write a description of why this could not be done.\n",
    "\n",
    "If you want, you can apply any other optimization method than what was applied in the paper. This would actually be interesting, since then we can compare the results."
   ]
  }
 ],
 "metadata": {
  "anaconda-cloud": {},
  "kernelspec": {
   "display_name": "Python 3",
   "language": "python",
   "name": "python3"
  },
  "language_info": {
   "codemirror_mode": {
    "name": "ipython",
    "version": 3
   },
   "file_extension": ".py",
   "mimetype": "text/x-python",
   "name": "python",
   "nbconvert_exporter": "python",
   "pygments_lexer": "ipython3",
   "version": "3.8.8"
  }
 },
 "nbformat": 4,
 "nbformat_minor": 1
}
